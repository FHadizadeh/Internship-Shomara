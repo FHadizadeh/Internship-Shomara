{
 "cells": [
  {
   "cell_type": "code",
   "execution_count": 57,
   "metadata": {},
   "outputs": [],
   "source": [
    "import json\n",
    "from es_connection import EsManagement\n",
    "import os\n",
    "import time\n",
    "\n",
    "import warnings\n",
    "warnings.filterwarnings('ignore')\n"
   ]
  },
  {
   "cell_type": "code",
   "execution_count": 58,
   "metadata": {},
   "outputs": [],
   "source": [
    "# import codecs\n",
    "# BLOCKSIZE = 1048576 # or some other, desired size in bytes\n",
    "# with codecs.open('data/addresses_geocode_results.csv', \"r\") as sourceFile:\n",
    "#     with codecs.open('data/addresses_geocode_results2.csv', \"w\", \"utf-8\") as targetFile:\n",
    "#         while True:\n",
    "#             contents = sourceFile.read(BLOCKSIZE)\n",
    "#             if not contents:\n",
    "#                 break\n",
    "#             targetFile.write(contents)"
   ]
  },
  {
   "cell_type": "code",
   "execution_count": 59,
   "metadata": {},
   "outputs": [
    {
     "name": "stdout",
     "output_type": "stream",
     "text": [
      "{'acknowledged': True}\n",
      "{'acknowledged': True, 'shards_acknowledged': True, 'index': 'temp'}\n"
     ]
    }
   ],
   "source": [
    "with open('elasticsearch-config/address_mapping.json', encoding='utf-8') as f:\n",
    "    address_mapping = json.load(f)\n",
    "\n",
    "index_name = \"temp\"\n",
    "\n",
    "es_connection = EsManagement()\n",
    "es_connection.clear_index(index_name=index_name)\n",
    "es_connection.create_index(index_name=index_name, mapping=address_mapping)"
   ]
  },
  {
   "cell_type": "code",
   "execution_count": 4,
   "metadata": {},
   "outputs": [],
   "source": [
    "# print(\n",
    "#   json.dumps(\n",
    "#     es_connection.es.indices.get_mapping(index=index_name), \n",
    "#     indent=1)\n",
    "# )"
   ]
  },
  {
   "cell_type": "markdown",
   "metadata": {},
   "source": [
    "<h1> INDEXING </h1>"
   ]
  },
  {
   "cell_type": "code",
   "execution_count": 60,
   "metadata": {},
   "outputs": [],
   "source": [
    "from elasticsearch import helpers, Elasticsearch\n",
    "import csv\n",
    "\n",
    "es = Elasticsearch()\n",
    "\n",
    "def generateBulkPayload(csv_reader):\n",
    "    for row in csv_reader:\n",
    "        # handle your parsing here\n",
    " \n",
    "        # overwriting the `created` attribute\n",
    "        row.update(dict(coordinates=eval(row.get('coordinates'))))\n",
    "#         row.update(dict(address=str(row.get('address').encode('utf-8'))))\n",
    "\n",
    "        yield row\n",
    "\n",
    "with open('data/addresses.csv', encoding='utf-8') as f:\n",
    "    reader = csv.DictReader(f)\n",
    "    helpers.bulk(es, reader, index=index_name)"
   ]
  },
  {
   "cell_type": "markdown",
   "metadata": {},
   "source": [
    "<h1> SEARCH </h1>"
   ]
  },
  {
   "cell_type": "code",
   "execution_count": 61,
   "metadata": {},
   "outputs": [],
   "source": [
    "result = es.search(index=index_name, body={\"query\":{\"match_all\":{}}})"
   ]
  },
  {
   "cell_type": "code",
   "execution_count": 62,
   "metadata": {},
   "outputs": [
    {
     "data": {
      "text/plain": [
       "{'took': 7,\n",
       " 'timed_out': False,\n",
       " '_shards': {'total': 1, 'successful': 1, 'skipped': 0, 'failed': 0},\n",
       " 'hits': {'total': {'value': 10000, 'relation': 'gte'},\n",
       "  'max_score': 1.0,\n",
       "  'hits': [{'_index': 'temp',\n",
       "    '_type': '_doc',\n",
       "    '_id': 'QuIsx3wBA11KtBU71-BM',\n",
       "    '_score': 1.0,\n",
       "    '_source': {'address': 'تهران،خ. استاد حسن بنا شمالی، بعد از چهارراه پرتوی، خ. جانسپار.کوچه ی دیدار.',\n",
       "     'building_no': '26',\n",
       "     'unit': '4'}},\n",
       "   {'_index': 'temp',\n",
       "    '_type': '_doc',\n",
       "    '_id': 'Q-Isx3wBA11KtBU71-BM',\n",
       "    '_score': 1.0,\n",
       "    '_source': {'address': 'تهران،مجیدیه شمالی، خ. منصوری، بن. بیدهندی',\n",
       "     'building_no': '10',\n",
       "     'unit': '5'}},\n",
       "   {'_index': 'temp',\n",
       "    '_type': '_doc',\n",
       "    '_id': 'ROIsx3wBA11KtBU71-BM',\n",
       "    '_score': 1.0,\n",
       "    '_source': {'address': 'تهران،مجیدیه، خ. عراقی، خ. شاهنده',\n",
       "     'building_no': '24',\n",
       "     'unit': '2'}},\n",
       "   {'_index': 'temp',\n",
       "    '_type': '_doc',\n",
       "    '_id': 'ReIsx3wBA11KtBU71-BM',\n",
       "    '_score': 1.0,\n",
       "    '_source': {'address': 'تهران،کرمان، خ. کرمان، خ. داوود رضایی',\n",
       "     'building_no': '48',\n",
       "     'unit': '13 شرقی'}},\n",
       "   {'_index': 'temp',\n",
       "    '_type': '_doc',\n",
       "    '_id': 'RuIsx3wBA11KtBU71-BM',\n",
       "    '_score': 1.0,\n",
       "    '_source': {'address': 'مجیدیه شمالی خیابان استاد حسن بنا بالاتراز میدان سرباز کوچه قربانی',\n",
       "     'building_no': '29',\n",
       "     'unit': '4'}},\n",
       "   {'_index': 'temp',\n",
       "    '_type': '_doc',\n",
       "    '_id': 'R-Isx3wBA11KtBU71-BM',\n",
       "    '_score': 1.0,\n",
       "    '_source': {'address': 'تهران،مجیدیه جنوبی، خ. همایی، خ. میرعلی اکبری',\n",
       "     'building_no': '15',\n",
       "     'unit': '4'}},\n",
       "   {'_index': 'temp',\n",
       "    '_type': '_doc',\n",
       "    '_id': 'SOIsx3wBA11KtBU71-BM',\n",
       "    '_score': 1.0,\n",
       "    '_source': {'address': 'تهران،بزرگراه رسالت، خ مجیدیه جنوبی. خ حاجی پور، کوچه محمداعوانی پلاک ۹ واحد۱',\n",
       "     'building_no': '9',\n",
       "     'unit': '1'}},\n",
       "   {'_index': 'temp',\n",
       "    '_type': '_doc',\n",
       "    '_id': 'SeIsx3wBA11KtBU71-BM',\n",
       "    '_score': 1.0,\n",
       "    '_source': {'address': 'مجیدیه شمالی.۱۶ متری دوم شمالی(خیابان منصوری).بعد از تره بار مجیدیه.کوچه ذبیح الله مظفری.ساختمان مهستان.پلاک ۱۰۶ واحد ۱۵',\n",
       "     'building_no': '106',\n",
       "     'unit': '15'}},\n",
       "   {'_index': 'temp',\n",
       "    '_type': '_doc',\n",
       "    '_id': 'SuIsx3wBA11KtBU71-BM',\n",
       "    '_score': 1.0,\n",
       "    '_source': {'address': 'تهران،مجیدیه، خ. استاد حسن بنا شمالی، نرسیده به م. سرباز، خ. نصیبی',\n",
       "     'building_no': '12',\n",
       "     'unit': '1'}},\n",
       "   {'_index': 'temp',\n",
       "    '_type': '_doc',\n",
       "    '_id': 'S-Isx3wBA11KtBU71-BM',\n",
       "    '_score': 1.0,\n",
       "    '_source': {'address': 'تهران،دبستان، خ. حاجی پور، بن. محمودی',\n",
       "     'building_no': '11',\n",
       "     'unit': '7'}}]}}"
      ]
     },
     "execution_count": 62,
     "metadata": {},
     "output_type": "execute_result"
    }
   ],
   "source": [
    "result"
   ]
  },
  {
   "cell_type": "code",
   "execution_count": 63,
   "metadata": {},
   "outputs": [],
   "source": [
    "def parse_search_output(s_output):\n",
    "    hits = s_output[\"hits\"]\n",
    "    result = []\n",
    "    if hits[\"total\"][\"value\"] > 0:\n",
    "        hits = hits[\"hits\"]\n",
    "        for hit in hits:\n",
    "            result.append(hit[\"_source\"])\n",
    "    return result"
   ]
  },
  {
   "cell_type": "code",
   "execution_count": 75,
   "metadata": {},
   "outputs": [],
   "source": [
    "def customized_search(address_query='', building_no_query='', unit_query='', address_weight=1, building_no_weight=1, unit_weight=1):\n",
    "    global es_connection, index_name\n",
    "    \n",
    "    es = es_connection.es\n",
    "    \n",
    "#     query = {\n",
    "#         \"size\": 10, \n",
    "#         \"query\": {\n",
    "#             \"bool\": {\n",
    "#                 \"should\":[\n",
    "#                      {\"wildcard\": {\n",
    "#                         \"address\": {\n",
    "#                             \"value\": '*' + address_query + '*',\n",
    "#                             \"boost\": address_weight,\n",
    "#                             \"rewrite\": \"constant_score\"}}},\n",
    "                    \n",
    "                    \n",
    "#                     {\"match\": {\n",
    "#                         \"building_no\": {\n",
    "#                             \"query\": building_no_query,\n",
    "#                             \"boost\" : building_no_weight}}},\n",
    "#                     {\"match\": {\"unit\": {\n",
    "#                         \"query\" : unit_query,\n",
    "#                         \"boost\" : unit_weight}}}\n",
    "#                 ]\n",
    "#             }\n",
    "#         },\n",
    "#         \"collapse\": {\n",
    "#             \"field\": \"address.keyword\"\n",
    "#         }\n",
    "#     }\n",
    "    \n",
    "#     query = {\n",
    "#         \"size\": 10, \n",
    "#         \"query\": {\n",
    "#             \"bool\": {\n",
    "#                 \"should\":[\n",
    "#                     {\"multi_match\": {\n",
    "#                         \"query\": address_query,\n",
    "#                         \"type\": \"bool_prefix\",\n",
    "#                         \"fields\": [\"address\",\n",
    "#                                    \"address._2gram\",\n",
    "#                                    \"address._3gram\"],\n",
    "#                         \"boost\" : address_weight}},\n",
    "#                     {\"match\": {\n",
    "#                         \"building_no\": {\n",
    "#                             \"query\": building_no_query,\n",
    "#                             \"boost\" : building_no_weight}}},\n",
    "#                     {\"match\": {\"unit\": {\n",
    "#                         \"query\" : unit_query,\n",
    "#                         \"boost\" : unit_weight}}}\n",
    "#                 ]\n",
    "#             }\n",
    "#         },\n",
    "#         \"collapse\": {\n",
    "#             \"field\": \"address.keyword\"\n",
    "#         }\n",
    "#     }\n",
    "\n",
    "#     \"match_bool_prefix\"\n",
    "    query = {\n",
    "        \"size\": 10,\n",
    "        \"query\": {\n",
    "            \"bool\": {\n",
    "                \"should\":[\n",
    "                    {\"match\": {\n",
    "                        \"address\": {\n",
    "                        \"query\": address_query,\n",
    "                        \"fuzziness\": \"AUTO\",\n",
    "                        \"boost\" : address_weight}}},\n",
    "                    {\"match_phrase_prefix\": {\n",
    "                        \"address\": {\n",
    "                        \"query\": address_query}}}\n",
    "    #                     {\"multi_match\": {\n",
    "    #                         \"query\": address_query,\n",
    "    #                         \"type\": \"bool_prefix\",\n",
    "    #                         \"fields\": [\"address\",\n",
    "    #                                    \"address._2gram\",\n",
    "    #                                    \"address._3gram\"],\n",
    "    #                         \"boost\" : address_weight}},\n",
    "    #                     {\"match\": {\n",
    "    #                         \"building_no\": {\n",
    "    #                             \"query\": building_no_query,\n",
    "    #                             \"boost\" : building_no_weight}}},\n",
    "    #                     {\"match\": {\"unit\": {\n",
    "    #                         \"query\" : unit_query,\n",
    "    #                         \"boost\" : unit_weight}}}\n",
    "                ]\n",
    "            }\n",
    "        },\n",
    "        \"collapse\": {\n",
    "            \"field\": \"address.keyword\"\n",
    "        }\n",
    "    }\n",
    "\n",
    "    \n",
    "#     query = {\n",
    "#         \"size\": 10, \n",
    "#         \"query\": {\n",
    "#             \"bool\": {\n",
    "#                 \"must\": [\n",
    "#                         {\n",
    "#                             \"match_phrase_prefix\": {\n",
    "#                                 \"address\": {\n",
    "#                                     \"query\": address_query\n",
    "#                                 }\n",
    "#                             }\n",
    "#                         }]\n",
    "#             }\n",
    "            \n",
    "#         },\n",
    "#         \"collapse\": {\n",
    "#             \"field\": \"address.keyword\"\n",
    "#         }\n",
    "#     }\n",
    "    result = es.search(index=index_name, body=query)\n",
    "    return result"
   ]
  },
  {
   "cell_type": "code",
   "execution_count": 77,
   "metadata": {},
   "outputs": [
    {
     "name": "stdout",
     "output_type": "stream",
     "text": [
      "{'took': 46, 'timed_out': False, '_shards': {'total': 1, 'successful': 1, 'skipped': 0, 'failed': 0}, 'hits': {'total': {'value': 10000, 'relation': 'gte'}, 'max_score': None, 'hits': [{'_index': 'temp', '_type': '_doc', '_id': 'HuIsx3wBA11KtBU7vDD4', '_score': 114.489685, '_source': {'address': 'ستاری بالاتر مجتمع کوروش کوچه اسدی', 'building_no': '24', 'unit': '2'}, 'fields': {'address.keyword': ['ستاری بالاتر مجتمع کوروش کوچه اسدی']}}, {'_index': 'temp', '_type': '_doc', '_id': 'WuMsx3wBA11KtBU77Ztw', '_score': 15.438201, '_source': {'address': 'خیابان شریعتی،بالاتر از چهارراه شهید قدوسی،کوچه کوروش', 'building_no': '25', 'unit': 'همکف'}, 'fields': {'address.keyword': ['خیابان شریعتی،بالاتر از چهارراه شهید قدوسی،کوچه کوروش']}}, {'_index': 'temp', '_type': '_doc', '_id': 'Y-Isx3wBA11KtBU7xV9a', '_score': 15.175352, '_source': {'address': 'تهران،خ. ولیعصر، بالتر از میدان ونک ، بالاتر از میرداماد، بلوار هرمز ستاری', 'building_no': '77', 'unit': '3'}, 'fields': {'address.keyword': ['تهران،خ. ولیعصر، بالتر از میدان ونک ، بالاتر از میرداماد، بلوار هرمز ستاری']}}, {'_index': 'temp', '_type': '_doc', '_id': '9eMsx3wBA11KtBU73AlB', '_score': 14.770336, '_source': {'address': 'تهران بالاتر از سیدخندان روبروی پارک کوروش کوچه پیروز', 'building_no': '21', 'unit': '2'}, 'fields': {'address.keyword': ['تهران بالاتر از سیدخندان روبروی پارک کوروش کوچه پیروز']}}, {'_index': 'temp', '_type': '_doc', '_id': 'YOMsx3wBA11KtBU76oDP', '_score': 14.251545, '_source': {'address': 'بالاترازمیدان ونک-بالاتر ازچهارراه-خ ستاری-', 'building_no': '77', 'unit': '1'}, 'fields': {'address.keyword': ['بالاترازمیدان ونک-بالاتر ازچهارراه-خ ستاری-']}}, {'_index': 'temp', '_type': '_doc', '_id': 'AuMsx3wBA11KtBU764Q6', '_score': 14.251545, '_source': {'address': 'ولیعصر بالاتر از میرداماد خ ستاری پ۶۳و۲۰۳', 'building_no': '63', 'unit': '203'}, 'fields': {'address.keyword': ['ولیعصر بالاتر از میرداماد خ ستاری پ۶۳و۲۰۳']}}, {'_index': 'temp', '_type': '_doc', '_id': '9OMsx3wBA11KtBU77Zpw', '_score': 14.011796, '_source': {'address': 'تهران، بالاتر از خ. بهشتی، خ. کوروش', 'building_no': '34', 'unit': '1'}, 'fields': {'address.keyword': ['تهران، بالاتر از خ. بهشتی، خ. کوروش']}}, {'_index': 'temp', '_type': '_doc', '_id': 'GOIsx3wBA11KtBU72_8c', '_score': 13.607138, '_source': {'address': 'تهران،خ. ولیعصر، بالاتر از میرداماد، بلوار ستاری', 'building_no': '92', 'unit': '11'}, 'fields': {'address.keyword': ['تهران،خ. ولیعصر، بالاتر از میرداماد، بلوار ستاری']}}, {'_index': 'temp', '_type': '_doc', '_id': 'meMsx3wBA11KtBU764MB', '_score': 13.607138, '_source': {'address': 'تهران،خ. ولیعصر،بالاتر از میرداماد،بلوار ستاری', 'building_no': '66', 'unit': '2غربی'}, 'fields': {'address.keyword': ['تهران،خ. ولیعصر،بالاتر از میرداماد،بلوار ستاری']}}, {'_index': 'temp', '_type': '_doc', '_id': 'e-Isx3wBA11KtBU7xWTU', '_score': 13.607138, '_source': {'address': 'تهران خیابان ولیعصر بالاتر از میرداماد بلوار ستاری', 'building_no': '68', 'unit': '9'}, 'fields': {'address.keyword': ['تهران خیابان ولیعصر بالاتر از میرداماد بلوار ستاری']}}]}}\n"
     ]
    }
   ],
   "source": [
    "result = customized_search(\"ستاری بالاتر مجتمع کوروش کوچه اسدی \")\n",
    "print(result)"
   ]
  },
  {
   "cell_type": "code",
   "execution_count": 66,
   "metadata": {},
   "outputs": [],
   "source": [
    "def neighbor_search(coordinates):\n",
    "    global es_connection, index_name\n",
    "    \n",
    "    es = es_connection.es\n",
    "\n",
    "    query = {\n",
    "        \"size\": 5,\n",
    "        \"query\": {\n",
    "            \"elastiknn_nearest_neighbors\": { \n",
    "                \"field\": \"coordinates\",\n",
    "                \"vec\": {                            \n",
    "                \"values\": coordinates,\n",
    "                },\n",
    "                \"model\": \"exact\",                   \n",
    "                \"similarity\": \"l2\",\n",
    "            }\n",
    "        }\n",
    "    }\n",
    "    \n",
    "    result = es.search(index=index_name, body=query)\n",
    "    return result"
   ]
  },
  {
   "cell_type": "code",
   "execution_count": 67,
   "metadata": {},
   "outputs": [
    {
     "data": {
      "text/plain": [
       "{'took': 38,\n",
       " 'timed_out': False,\n",
       " '_shards': {'total': 1, 'successful': 1, 'skipped': 0, 'failed': 0},\n",
       " 'hits': {'total': {'value': 100, 'relation': 'eq'},\n",
       "  'max_score': 1.0,\n",
       "  'hits': [{'_index': 'temp',\n",
       "    '_type': '_doc',\n",
       "    '_id': 'ftz4anwBI6QRxh8O9yl-',\n",
       "    '_score': 1.0,\n",
       "    '_source': {'address': 'ستاری بالاتر مجتمع کوروش کوچه اسدی',\n",
       "     'building_no': '24',\n",
       "     'unit': '2',\n",
       "     'coordinates': [35.7385784, 51.3136545]}},\n",
       "   {'_index': 'temp',\n",
       "    '_type': '_doc',\n",
       "    '_id': 'o9z4anwBI6QRxh8O9ymA',\n",
       "    '_score': 0.9881734,\n",
       "    '_source': {'address': 'تهران،راه آهن، خ. وحدت اسلامی، بن. حسین زاده',\n",
       "     'building_no': '36',\n",
       "     'unit': '8',\n",
       "     'coordinates': [35.7475301, 51.3057145]}},\n",
       "   {'_index': 'temp',\n",
       "    '_type': '_doc',\n",
       "    '_id': 'odz4anwBI6QRxh8O9ymA',\n",
       "    '_score': 0.98571646,\n",
       "    '_source': {'address': 'تهران،آریا شهر، اباذر، خ. پیامبر غربی، خ. سلمان فارسی',\n",
       "     'building_no': '2',\n",
       "     'unit': '12',\n",
       "     'coordinates': [35.7365732, 51.3280063]}},\n",
       "   {'_index': 'temp',\n",
       "    '_type': '_doc',\n",
       "    '_id': 'zNz4anwBI6QRxh8O9ymB',\n",
       "    '_score': 0.98492956,\n",
       "    '_source': {'address': 'تهران،جنت آباد جنوبی، خ. چهارباغ شرقی، خ. یکم، خ. اذرشب',\n",
       "     'building_no': '11',\n",
       "     'unit': '5',\n",
       "     'coordinates': [35.7504284, 51.303973]}},\n",
       "   {'_index': 'temp',\n",
       "    '_type': '_doc',\n",
       "    '_id': '1tz4anwBI6QRxh8O9ymB',\n",
       "    '_score': 0.9839748,\n",
       "    '_source': {'address': 'تهران،آریا شهر، اباذر، خ. گلدشت، بن. بوستان سه شرقی',\n",
       "     'building_no': '185',\n",
       "     'unit': '5',\n",
       "     'coordinates': [35.7325029, 51.3287659]}}]}}"
      ]
     },
     "execution_count": 67,
     "metadata": {},
     "output_type": "execute_result"
    }
   ],
   "source": [
    "neighbor_search([35.7385784, 51.3136545])"
   ]
  },
  {
   "cell_type": "code",
   "execution_count": 59,
   "metadata": {},
   "outputs": [],
   "source": [
    "import math\n",
    "\n",
    "def calculate_distance_between_two_latlong_coordinates(coordinate1, coordinate2):\n",
    "    lat1, lon1 = coordinate1\n",
    "    lat2, lon2 = coordinate2\n",
    "\n",
    "    R = 6373.0\n",
    "\n",
    "    lat1 = math.radians(lat1)\n",
    "\n",
    "    lon1 = math.radians(lon1)\n",
    "\n",
    "    lat2 = math.radians(lat2)\n",
    "\n",
    "    lon2 = math.radians(lon2)\n",
    "\n",
    "\n",
    "    dlon = lon2 - lon1\n",
    "\n",
    "    dlat = lat2 - lat1\n",
    "\n",
    "\n",
    "    a = math.sin(dlat / 2)**2 + math.cos(lat1) * math.cos(lat2) * math.sin(dlon / 2)**2\n",
    "\n",
    "\n",
    "    c = 2 * math.atan2(math.sqrt(a), math.sqrt(1 - a))\n",
    "\n",
    "    distance = R * c\n",
    "\n",
    "\n",
    "    print(distance)"
   ]
  },
  {
   "cell_type": "code",
   "execution_count": 61,
   "metadata": {},
   "outputs": [
    {
     "name": "stdout",
     "output_type": "stream",
     "text": [
      "2.352765768118365\n"
     ]
    }
   ],
   "source": [
    "calculate_distance_between_two_latlong_coordinates([35.7365732, 51.3280063], [35.7475301, 51.3057145])"
   ]
  },
  {
   "cell_type": "code",
   "execution_count": 50,
   "metadata": {},
   "outputs": [
    {
     "data": {
      "text/plain": [
       "8.013293288995043e-05"
      ]
     },
     "execution_count": 50,
     "metadata": {},
     "output_type": "execute_result"
    }
   ],
   "source": [
    "pow((35.7385784 - 35.7475301),2)"
   ]
  },
  {
   "cell_type": "code",
   "execution_count": 52,
   "metadata": {},
   "outputs": [
    {
     "data": {
      "text/plain": [
       "0.011965639677422852"
      ]
     },
     "execution_count": 52,
     "metadata": {},
     "output_type": "execute_result"
    }
   ],
   "source": [
    "pow((8.013293288995043e-05+6.304359999996566e-05), 1/2)"
   ]
  },
  {
   "cell_type": "code",
   "execution_count": 51,
   "metadata": {},
   "outputs": [
    {
     "data": {
      "text/plain": [
       "6.304359999996566e-05"
      ]
     },
     "execution_count": 51,
     "metadata": {},
     "output_type": "execute_result"
    }
   ],
   "source": [
    "pow((51.3136545 - 51.3057145),2)"
   ]
  },
  {
   "cell_type": "code",
   "execution_count": 13,
   "metadata": {},
   "outputs": [
    {
     "name": "stdout",
     "output_type": "stream",
     "text": [
      "{'took': 55, 'timed_out': False, '_shards': {'total': 1, 'successful': 1, 'skipped': 0, 'failed': 0}, 'hits': {'total': {'value': 0, 'relation': 'eq'}, 'max_score': None, 'hits': []}}\n"
     ]
    }
   ],
   "source": [
    "result = customized_search(\" ستاری\")\n",
    "print(result)"
   ]
  },
  {
   "cell_type": "code",
   "execution_count": null,
   "metadata": {},
   "outputs": [],
   "source": [
    "def geocode(address):\n",
    "    matched_addresses = customized_search(address)\n",
    "    nighborrs = []\n",
    "    for addr in matched_addresses:\n",
    "        "
   ]
  },
  {
   "cell_type": "code",
   "execution_count": 19,
   "metadata": {},
   "outputs": [],
   "source": [
    "import pandas as pd\n",
    "\n",
    "read_file = pd.read_csv (r'data\\addresses_geocode_results.csv')"
   ]
  },
  {
   "cell_type": "code",
   "execution_count": 20,
   "metadata": {},
   "outputs": [
    {
     "data": {
      "text/html": [
       "<div>\n",
       "<style scoped>\n",
       "    .dataframe tbody tr th:only-of-type {\n",
       "        vertical-align: middle;\n",
       "    }\n",
       "\n",
       "    .dataframe tbody tr th {\n",
       "        vertical-align: top;\n",
       "    }\n",
       "\n",
       "    .dataframe thead th {\n",
       "        text-align: right;\n",
       "    }\n",
       "</style>\n",
       "<table border=\"1\" class=\"dataframe\">\n",
       "  <thead>\n",
       "    <tr style=\"text-align: right;\">\n",
       "      <th></th>\n",
       "      <th>address</th>\n",
       "      <th>building_no</th>\n",
       "      <th>unit</th>\n",
       "      <th>coordinates</th>\n",
       "    </tr>\n",
       "  </thead>\n",
       "  <tbody>\n",
       "    <tr>\n",
       "      <th>0</th>\n",
       "      <td>ستاری بالاتر مجتمع کوروش کوچه اسدی</td>\n",
       "      <td>24</td>\n",
       "      <td>2</td>\n",
       "      <td>[35.7385784, 51.3136545]</td>\n",
       "    </tr>\n",
       "    <tr>\n",
       "      <th>1</th>\n",
       "      <td>میدان کاج به طرف سرو غربی میدان قیصر امین پور ...</td>\n",
       "      <td>39</td>\n",
       "      <td>10</td>\n",
       "      <td>[35.7822366, 51.37480799999999]</td>\n",
       "    </tr>\n",
       "    <tr>\n",
       "      <th>2</th>\n",
       "      <td>پونک/بلوار میرزابابایی/خیابان ایران زمین شمالی...</td>\n",
       "      <td>30</td>\n",
       "      <td>3</td>\n",
       "      <td>[35.7604901, 51.3324125]</td>\n",
       "    </tr>\n",
       "    <tr>\n",
       "      <th>3</th>\n",
       "      <td>تهران،فرودگاه مهرآباد</td>\n",
       "      <td>7</td>\n",
       "      <td>8</td>\n",
       "      <td>[35.68998819999999, 51.311241]</td>\n",
       "    </tr>\n",
       "    <tr>\n",
       "      <th>4</th>\n",
       "      <td>تهران،خ. باهنر، نرسیده به سه راه یاسر، خ. صادق...</td>\n",
       "      <td>2</td>\n",
       "      <td>3</td>\n",
       "      <td>[35.8196097, 51.4507191]</td>\n",
       "    </tr>\n",
       "    <tr>\n",
       "      <th>...</th>\n",
       "      <td>...</td>\n",
       "      <td>...</td>\n",
       "      <td>...</td>\n",
       "      <td>...</td>\n",
       "    </tr>\n",
       "    <tr>\n",
       "      <th>95</th>\n",
       "      <td>تهران،استاد معین، بل استاد معین، نرسیده به خ. ...</td>\n",
       "      <td>32</td>\n",
       "      <td>4</td>\n",
       "      <td>[35.6934182, 51.3448207]</td>\n",
       "    </tr>\n",
       "    <tr>\n",
       "      <th>96</th>\n",
       "      <td>تهران،کارون شمالی، خ. کارون، خ. بوستان سعدی</td>\n",
       "      <td>24</td>\n",
       "      <td>3</td>\n",
       "      <td>[35.6922333, 51.36879099999999]</td>\n",
       "    </tr>\n",
       "    <tr>\n",
       "      <th>97</th>\n",
       "      <td>تهران،قیام، خ. ابمنگول، خ. قاسم گلی، خ. اخوان ...</td>\n",
       "      <td>31</td>\n",
       "      <td>4</td>\n",
       "      <td>[35.6717418, 51.441097]</td>\n",
       "    </tr>\n",
       "    <tr>\n",
       "      <th>98</th>\n",
       "      <td>تهران،سرو آزاد</td>\n",
       "      <td>5</td>\n",
       "      <td>8</td>\n",
       "      <td>[35.7362417, 51.1912221]</td>\n",
       "    </tr>\n",
       "    <tr>\n",
       "      <th>99</th>\n",
       "      <td>تهران،فرودگاه مهرآباد</td>\n",
       "      <td>3</td>\n",
       "      <td>7ihhj</td>\n",
       "      <td>[35.68998819999999, 51.311241]</td>\n",
       "    </tr>\n",
       "  </tbody>\n",
       "</table>\n",
       "<p>100 rows × 4 columns</p>\n",
       "</div>"
      ],
      "text/plain": [
       "                                              address  building_no   unit  \\\n",
       "0                  ستاری بالاتر مجتمع کوروش کوچه اسدی           24      2   \n",
       "1   میدان کاج به طرف سرو غربی میدان قیصر امین پور ...           39     10   \n",
       "2   پونک/بلوار میرزابابایی/خیابان ایران زمین شمالی...           30      3   \n",
       "3                               تهران،فرودگاه مهرآباد            7      8   \n",
       "4   تهران،خ. باهنر، نرسیده به سه راه یاسر، خ. صادق...            2      3   \n",
       "..                                                ...          ...    ...   \n",
       "95  تهران،استاد معین، بل استاد معین، نرسیده به خ. ...           32      4   \n",
       "96        تهران،کارون شمالی، خ. کارون، خ. بوستان سعدی           24      3   \n",
       "97  تهران،قیام، خ. ابمنگول، خ. قاسم گلی، خ. اخوان ...           31      4   \n",
       "98                                     تهران،سرو آزاد            5      8   \n",
       "99                              تهران،فرودگاه مهرآباد            3  7ihhj   \n",
       "\n",
       "                        coordinates  \n",
       "0          [35.7385784, 51.3136545]  \n",
       "1   [35.7822366, 51.37480799999999]  \n",
       "2          [35.7604901, 51.3324125]  \n",
       "3    [35.68998819999999, 51.311241]  \n",
       "4          [35.8196097, 51.4507191]  \n",
       "..                              ...  \n",
       "95         [35.6934182, 51.3448207]  \n",
       "96  [35.6922333, 51.36879099999999]  \n",
       "97          [35.6717418, 51.441097]  \n",
       "98         [35.7362417, 51.1912221]  \n",
       "99   [35.68998819999999, 51.311241]  \n",
       "\n",
       "[100 rows x 4 columns]"
      ]
     },
     "execution_count": 20,
     "metadata": {},
     "output_type": "execute_result"
    }
   ],
   "source": [
    "read_file"
   ]
  },
  {
   "cell_type": "code",
   "execution_count": null,
   "metadata": {},
   "outputs": [],
   "source": []
  },
  {
   "cell_type": "code",
   "execution_count": null,
   "metadata": {},
   "outputs": [],
   "source": []
  },
  {
   "cell_type": "code",
   "execution_count": 27,
   "metadata": {},
   "outputs": [
    {
     "data": {
      "text/plain": [
       "{'_index': 'temp',\n",
       " '_type': '_doc',\n",
       " '_id': 'apb6Y3wBWJ96Qa2i00Yk',\n",
       " '_version': 1,\n",
       " '_seq_no': 3,\n",
       " '_primary_term': 1,\n",
       " 'found': True,\n",
       " '_source': {'address': 'تهران،فرودگاه مهرآباد',\n",
       "  'building_no': '7',\n",
       "  'unit': '8',\n",
       "  'coordinates': [35.68998819999999, 51.311241]}}"
      ]
     },
     "execution_count": 27,
     "metadata": {},
     "output_type": "execute_result"
    }
   ],
   "source": [
    "es_connection.es.get(index=index_name, id=\"apb6Y3wBWJ96Qa2i00Yk\")"
   ]
  },
  {
   "cell_type": "code",
   "execution_count": null,
   "metadata": {},
   "outputs": [],
   "source": []
  },
  {
   "cell_type": "code",
   "execution_count": 52,
   "metadata": {},
   "outputs": [
    {
     "ename": "SyntaxError",
     "evalue": "positional argument follows keyword argument (<ipython-input-52-21b6bb4d6ff2>, line 3)",
     "output_type": "error",
     "traceback": [
      "\u001b[1;36m  File \u001b[1;32m\"<ipython-input-52-21b6bb4d6ff2>\"\u001b[1;36m, line \u001b[1;32m3\u001b[0m\n\u001b[1;33m    path=os.path.join(\"data\", \"addresses_geocode_results.csv\"), generateBulkPayload(reader))\u001b[0m\n\u001b[1;37m                                                               ^\u001b[0m\n\u001b[1;31mSyntaxError\u001b[0m\u001b[1;31m:\u001b[0m positional argument follows keyword argument\n"
     ]
    }
   ],
   "source": [
    "start_time = time.time()\n",
    "es_connection.load_csv_into_index(index_name=index_name, \n",
    "                             path=os.path.join(\"data\", \"addresses_geocode_results.csv\"), generateBulkPayload(reader))\n",
    "print(\"Elapsed time:\", time.time() - start_time)"
   ]
  },
  {
   "cell_type": "code",
   "execution_count": null,
   "metadata": {},
   "outputs": [],
   "source": []
  }
 ],
 "metadata": {
  "kernelspec": {
   "display_name": "Python (opencv)",
   "language": "python",
   "name": "opencv"
  },
  "language_info": {
   "codemirror_mode": {
    "name": "ipython",
    "version": 3
   },
   "file_extension": ".py",
   "mimetype": "text/x-python",
   "name": "python",
   "nbconvert_exporter": "python",
   "pygments_lexer": "ipython3",
   "version": "3.7.4"
  }
 },
 "nbformat": 4,
 "nbformat_minor": 4
}
